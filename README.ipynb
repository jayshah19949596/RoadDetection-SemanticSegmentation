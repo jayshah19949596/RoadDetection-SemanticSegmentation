{
 "cells": [
  {
   "cell_type": "markdown",
   "metadata": {},
   "source": [
    "### Semantic Segmentation on Kitti\n",
    "----\n",
    "- I have choosen Kitti Dataset for Vehicle Detection. you can find the description of dataset [here](http://www.cvlibs.net/datasets/kitti/eval_semseg.php?benchmark=semantics2015)\n",
    "- I have tried to replicate [Fully Convolution Network](https://people.eecs.berkeley.edu/~jonlong/long_shelhamer_fcn.pdf)\n",
    "- I have used a pretrained VGG16 Model as Encoder and in Decoder I have used Transpose Convolution with Skip Connections from the encoder\n",
    "- Download VGG16 from [here](http://s3-us-west-1.amazonaws.com/udacity-selfdrivingcar/vgg.zip)\n",
    "- Extract the contents of the VGG in the \"./data/vgg_model\" folder \n",
    "- This network is used for Semantic Segmentation whose architecture is below:\n",
    "[image2]: ./image_rsrcs/semantic_segmentation.png \"SemanticSegmentation\"\n",
    "![SemanticSegmentation][image2]\n",
    "\n",
    "- Training image and its corresponding Ground Truth: \n",
    "[image3]: ./image_rsrcs/kitti_data.png \"KittiData\"\n",
    "![KittiData][image3]\n",
    "\n",
    "\n",
    "### Semantic Segmentation Results\n",
    "----\n",
    "[image4]: ./image_rsrcs/results.png \"Results\"\n",
    "![Results][image4]"
   ]
  }
 ],
 "metadata": {
  "kernelspec": {
   "display_name": "Python 3",
   "language": "python",
   "name": "python3"
  },
  "language_info": {
   "codemirror_mode": {
    "name": "ipython",
    "version": 3
   },
   "file_extension": ".py",
   "mimetype": "text/x-python",
   "name": "python",
   "nbconvert_exporter": "python",
   "pygments_lexer": "ipython3",
   "version": "3.6.4"
  }
 },
 "nbformat": 4,
 "nbformat_minor": 2
}
